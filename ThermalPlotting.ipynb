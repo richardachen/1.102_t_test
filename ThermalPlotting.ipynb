{
  "nbformat": 4,
  "nbformat_minor": 0,
  "metadata": {
    "colab": {
      "provenance": [],
      "authorship_tag": "ABX9TyNVPtTNIa7F/ZK4rpDxfRKG",
      "include_colab_link": true
    },
    "kernelspec": {
      "name": "python3",
      "display_name": "Python 3"
    },
    "language_info": {
      "name": "python"
    }
  },
  "cells": [
    {
      "cell_type": "markdown",
      "metadata": {
        "id": "view-in-github",
        "colab_type": "text"
      },
      "source": [
        "<a href=\"https://colab.research.google.com/github/richardachen/1.102_t_test/blob/main/ThermalPlotting.ipynb\" target=\"_parent\"><img src=\"https://colab.research.google.com/assets/colab-badge.svg\" alt=\"Open In Colab\"/></a>"
      ]
    },
    {
      "cell_type": "code",
      "execution_count": 1,
      "metadata": {
        "id": "2CDlHj_eZJXQ"
      },
      "outputs": [],
      "source": [
        "#@title Load Packages\n",
        "# https://medium.com/analytics-vidhya/colab-and-google-sheets-surprisingly-powerful-combination-for-data-science-part-1-bbbb11cbd8e\n",
        "# https://colab.research.google.com/notebooks/snippets/sheets.ipynb#scrollTo=6d0xJz3VzLOo\n",
        "from google.colab import auth\n",
        "auth.authenticate_user()\n",
        "\n",
        "import gspread\n",
        "from google.auth import default\n",
        "creds, _ = default()\n",
        "\n",
        "gc = gspread.authorize(creds)\n",
        "\n",
        "import pandas as pd\n",
        "import numpy as np\n",
        "from scipy import stats"
      ]
    },
    {
      "cell_type": "code",
      "source": [
        "data_sheet = gc.open('1.102 Final Experiment')"
      ],
      "metadata": {
        "id": "zC_Cgzk6bWd5"
      },
      "execution_count": 2,
      "outputs": []
    },
    {
      "cell_type": "code",
      "source": [
        "#@title Load No Well\n",
        "\n",
        "run1 = data_sheet.worksheet('run1')\n",
        "\n",
        "rows = run1.get_all_values()\n",
        "\n",
        "no_well = pd.DataFrame.from_records(rows)\n",
        "no_well = no_well.truncate(before=12)\n",
        "diff_1 = no_well.iloc[:,5].to_numpy()\n",
        "diff_1 = diff_1.astype(float)"
      ],
      "metadata": {
        "id": "RvIXgtAzbtRZ"
      },
      "execution_count": 3,
      "outputs": []
    },
    {
      "cell_type": "code",
      "source": [
        "#@title Load 1\" Well\n",
        "\n",
        "run2 = data_sheet.worksheet('run2')\n",
        "\n",
        "rows = run2.get_all_values()\n",
        "\n",
        "one_well = pd.DataFrame.from_records(rows)\n",
        "one_well = one_well.truncate(before=17)\n",
        "diff_2 = one_well.iloc[:,5].to_numpy()\n",
        "diff_2 = diff_2[:351]\n",
        "diff_2 = diff_2.astype(float)"
      ],
      "metadata": {
        "id": "uX4oh2prcE8h"
      },
      "execution_count": 4,
      "outputs": []
    },
    {
      "cell_type": "code",
      "source": [
        "#@title Load 2\" Well\n",
        "\n",
        "run3 = data_sheet.worksheet('run3')\n",
        "\n",
        "rows = run3.get_all_values()\n",
        "\n",
        "two_well = pd.DataFrame.from_records(rows)\n",
        "two_well = two_well.truncate(before=21)\n",
        "diff_3 = two_well.iloc[:,5].to_numpy()\n",
        "diff_3 = diff_3[:350]\n",
        "diff_3 = diff_3.astype(float)"
      ],
      "metadata": {
        "id": "w0phrvIxcsgB"
      },
      "execution_count": 6,
      "outputs": []
    },
    {
      "cell_type": "markdown",
      "source": [
        "### T-Test"
      ],
      "metadata": {
        "id": "1Mawf4BfjOU6"
      }
    },
    {
      "cell_type": "code",
      "source": [
        "#@title Between no well and 1\" well\n",
        "# https://docs.scipy.org/doc/scipy/reference/generated/scipy.stats.ttest_ind.html\n",
        "\n",
        "stats.ttest_ind(diff_1, diff_2)"
      ],
      "metadata": {
        "id": "GeExNW0xjW15",
        "colab": {
          "base_uri": "https://localhost:8080/"
        },
        "outputId": "cf48bb7f-8e8f-405a-d201-86324ba538be"
      },
      "execution_count": null,
      "outputs": [
        {
          "output_type": "execute_result",
          "data": {
            "text/plain": [
              "Ttest_indResult(statistic=-29.347642656606496, pvalue=2.227376052491429e-121)"
            ]
          },
          "metadata": {},
          "execution_count": 94
        }
      ]
    },
    {
      "cell_type": "code",
      "source": [
        "#@title Between no well and 2\" well\n",
        "\n",
        "stats.ttest_ind(diff_1, diff_3)"
      ],
      "metadata": {
        "colab": {
          "base_uri": "https://localhost:8080/"
        },
        "id": "xwzdKiambtnp",
        "outputId": "33daf9ed-197d-4f1e-cd62-4cddb6b3bcc2"
      },
      "execution_count": null,
      "outputs": [
        {
          "output_type": "execute_result",
          "data": {
            "text/plain": [
              "Ttest_indResult(statistic=-39.30655934539538, pvalue=3.7894553361733193e-174)"
            ]
          },
          "metadata": {},
          "execution_count": 95
        }
      ]
    },
    {
      "cell_type": "markdown",
      "source": [
        "### Averages"
      ],
      "metadata": {
        "id": "28zjnF_aPgzo"
      }
    },
    {
      "cell_type": "code",
      "source": [
        "#@title No well\n",
        "\n",
        "print(np.mean(diff_1))"
      ],
      "metadata": {
        "colab": {
          "base_uri": "https://localhost:8080/"
        },
        "id": "u1v7XxaVPhgC",
        "outputId": "c313123a-7518-4d9c-b60a-b17da47bdc2e"
      },
      "execution_count": 8,
      "outputs": [
        {
          "output_type": "stream",
          "name": "stdout",
          "text": [
            "1.50852794301875\n"
          ]
        }
      ]
    },
    {
      "cell_type": "code",
      "source": [
        "#@title 1\" well\n",
        "\n",
        "print(np.mean(diff_2))"
      ],
      "metadata": {
        "colab": {
          "base_uri": "https://localhost:8080/"
        },
        "id": "S-OaExpIP8FO",
        "outputId": "0f51a807-602d-4ee8-ef8b-07d6405c6ddd"
      },
      "execution_count": 9,
      "outputs": [
        {
          "output_type": "stream",
          "name": "stdout",
          "text": [
            "3.395705365381766\n"
          ]
        }
      ]
    },
    {
      "cell_type": "code",
      "source": [
        "#@title 2\" well\n",
        "\n",
        "print(np.mean(diff_3))"
      ],
      "metadata": {
        "colab": {
          "base_uri": "https://localhost:8080/"
        },
        "id": "CNsbv2RQQBh8",
        "outputId": "ec59b90f-3c21-46af-8ee4-a99062d42517"
      },
      "execution_count": 10,
      "outputs": [
        {
          "output_type": "stream",
          "name": "stdout",
          "text": [
            "4.184218276197143\n"
          ]
        }
      ]
    }
  ]
}