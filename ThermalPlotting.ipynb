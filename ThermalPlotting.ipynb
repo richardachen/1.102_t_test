{
  "nbformat": 4,
  "nbformat_minor": 0,
  "metadata": {
    "colab": {
      "provenance": [],
      "authorship_tag": "ABX9TyMc1Ji9p0QIDTh6FxSgQ6LV",
      "include_colab_link": true
    },
    "kernelspec": {
      "name": "python3",
      "display_name": "Python 3"
    },
    "language_info": {
      "name": "python"
    }
  },
  "cells": [
    {
      "cell_type": "markdown",
      "metadata": {
        "id": "view-in-github",
        "colab_type": "text"
      },
      "source": [
        "<a href=\"https://colab.research.google.com/github/richardachen/1.102_t_test/blob/main/ThermalPlotting.ipynb\" target=\"_parent\"><img src=\"https://colab.research.google.com/assets/colab-badge.svg\" alt=\"Open In Colab\"/></a>"
      ]
    },
    {
      "cell_type": "code",
      "execution_count": null,
      "metadata": {
        "id": "2CDlHj_eZJXQ"
      },
      "outputs": [],
      "source": [
        "#@title Load Packages\n",
        "# https://medium.com/analytics-vidhya/colab-and-google-sheets-surprisingly-powerful-combination-for-data-science-part-1-bbbb11cbd8e\n",
        "# https://colab.research.google.com/notebooks/snippets/sheets.ipynb#scrollTo=6d0xJz3VzLOo\n",
        "from google.colab import auth\n",
        "auth.authenticate_user()\n",
        "\n",
        "import gspread\n",
        "from google.auth import default\n",
        "creds, _ = default()\n",
        "\n",
        "gc = gspread.authorize(creds)\n",
        "\n",
        "import pandas as pd\n",
        "import numpy as np\n",
        "from scipy import stats"
      ]
    },
    {
      "cell_type": "code",
      "source": [
        "data_sheet = gc.open('1.102 Final Experiment')"
      ],
      "metadata": {
        "id": "zC_Cgzk6bWd5"
      },
      "execution_count": null,
      "outputs": []
    },
    {
      "cell_type": "code",
      "source": [
        "run1 = data_sheet.worksheet('run1')\n",
        "\n",
        "rows = run1.get_all_values()\n",
        "\n",
        "no_well = pd.DataFrame.from_records(rows)\n",
        "no_well = no_well.truncate(before=12)\n",
        "diff_1 = no_well.iloc[:,5].to_numpy()\n",
        "diff_1 = diff_1.astype(float)"
      ],
      "metadata": {
        "id": "RvIXgtAzbtRZ"
      },
      "execution_count": null,
      "outputs": []
    },
    {
      "cell_type": "code",
      "source": [
        "run2 = data_sheet.worksheet('run2')\n",
        "\n",
        "rows = run2.get_all_values()\n",
        "\n",
        "one_well = pd.DataFrame.from_records(rows)\n",
        "one_well = one_well.truncate(before=17)\n",
        "diff_2 = one_well.iloc[:,5].to_numpy()\n",
        "diff_2 = diff_2[:351]\n",
        "diff_2 = diff_2.astype(float)"
      ],
      "metadata": {
        "id": "uX4oh2prcE8h"
      },
      "execution_count": null,
      "outputs": []
    },
    {
      "cell_type": "code",
      "source": [
        "run3 = data_sheet.worksheet('run3')\n",
        "\n",
        "rows = run3.get_all_values()\n",
        "\n",
        "two_well = pd.DataFrame.from_records(rows)\n",
        "two_well = two_well.truncate(before=21)\n",
        "diff_3 = two_well.iloc[:,5].to_numpy()\n",
        "diff_3 = diff_3[:350]\n",
        "diff_3 = diff_3.astype(float)"
      ],
      "metadata": {
        "id": "w0phrvIxcsgB"
      },
      "execution_count": null,
      "outputs": []
    },
    {
      "cell_type": "markdown",
      "source": [
        "### T-Test"
      ],
      "metadata": {
        "id": "1Mawf4BfjOU6"
      }
    },
    {
      "cell_type": "code",
      "source": [
        "#@title Between no well and 1\" well\n",
        "# https://docs.scipy.org/doc/scipy/reference/generated/scipy.stats.ttest_ind.html\n",
        "\n",
        "stats.ttest_ind(diff_1, diff_2)"
      ],
      "metadata": {
        "id": "GeExNW0xjW15",
        "colab": {
          "base_uri": "https://localhost:8080/"
        },
        "outputId": "cf48bb7f-8e8f-405a-d201-86324ba538be"
      },
      "execution_count": null,
      "outputs": [
        {
          "output_type": "execute_result",
          "data": {
            "text/plain": [
              "Ttest_indResult(statistic=-29.347642656606496, pvalue=2.227376052491429e-121)"
            ]
          },
          "metadata": {},
          "execution_count": 94
        }
      ]
    },
    {
      "cell_type": "code",
      "source": [
        "#@title Between no well and 2\" well\n",
        "\n",
        "stats.ttest_ind(diff_1, diff_3)"
      ],
      "metadata": {
        "colab": {
          "base_uri": "https://localhost:8080/"
        },
        "id": "xwzdKiambtnp",
        "outputId": "33daf9ed-197d-4f1e-cd62-4cddb6b3bcc2"
      },
      "execution_count": null,
      "outputs": [
        {
          "output_type": "execute_result",
          "data": {
            "text/plain": [
              "Ttest_indResult(statistic=-39.30655934539538, pvalue=3.7894553361733193e-174)"
            ]
          },
          "metadata": {},
          "execution_count": 95
        }
      ]
    }
  ]
}